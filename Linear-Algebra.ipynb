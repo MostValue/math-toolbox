{
 "cells": [
  {
   "cell_type": "code",
   "execution_count": 2,
   "id": "58abb1bb-a173-44bc-a3bd-5f1486420d3c",
   "metadata": {
    "tags": []
   },
   "outputs": [],
   "source": [
    "using LinearAlgebra"
   ]
  },
  {
   "cell_type": "code",
   "execution_count": 3,
   "id": "bc2cf86b-dc39-4a79-b185-c803e8965de1",
   "metadata": {
    "tags": []
   },
   "outputs": [
    {
     "data": {
      "text/plain": [
       "6×8 Matrix{Int64}:\n",
       " 1  -1   0   0   0   0   0  0\n",
       " 0   1  -1   0   0   0   0  0\n",
       " 0   0   1  -1   0   0   0  0\n",
       " 0   0   0   1  -1   0   0  0\n",
       " 0   0   0   0   1  -1   0  0\n",
       " 0   0   0   0   0   1  -1  0"
      ]
     },
     "execution_count": 3,
     "metadata": {},
     "output_type": "execute_result"
    }
   ],
   "source": [
    "diagm(6,8 , 0 => fill(1,6), 1 => fill(-1,6))"
   ]
  },
  {
   "cell_type": "markdown",
   "id": "7d6b8d1b-a1e4-4d5e-8c79-de65cf64d3c3",
   "metadata": {},
   "source": [
    "## PSET 9 "
   ]
  },
  {
   "cell_type": "code",
   "execution_count": 27,
   "id": "a4ccb37d-1246-4724-a799-156887937e3d",
   "metadata": {
    "tags": []
   },
   "outputs": [
    {
     "data": {
      "text/plain": [
       "3-element Vector{ComplexF64}:\n",
       "  -1.0383850530523187 + 0.0im\n",
       " -0.26728504759346605 - 0.5623739229055031im\n",
       " -0.26728504759346605 + 0.5623739229055031im"
      ]
     },
     "execution_count": 27,
     "metadata": {},
     "output_type": "execute_result"
    }
   ],
   "source": [
    "eigvals(randn(3,3))\n",
    "# We note that a 3x3 matrix must have at least 1 real eigenvalue"
   ]
  },
  {
   "cell_type": "code",
   "execution_count": null,
   "id": "f0adb306-8e59-4afd-9f3b-46ef4a06102f",
   "metadata": {},
   "outputs": [],
   "source": []
  },
  {
   "cell_type": "code",
   "execution_count": null,
   "id": "624fb7c4-9cbf-447f-9b91-e55fb13bb3f0",
   "metadata": {},
   "outputs": [],
   "source": []
  }
 ],
 "metadata": {
  "kernelspec": {
   "display_name": "Julia 1.9.0",
   "language": "julia",
   "name": "julia-1.9"
  },
  "language_info": {
   "file_extension": ".jl",
   "mimetype": "application/julia",
   "name": "julia",
   "version": "1.9.0"
  }
 },
 "nbformat": 4,
 "nbformat_minor": 5
}
