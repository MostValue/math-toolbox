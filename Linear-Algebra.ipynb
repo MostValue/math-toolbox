{
 "cells": [
  {
   "cell_type": "code",
   "execution_count": 2,
   "id": "58abb1bb-a173-44bc-a3bd-5f1486420d3c",
   "metadata": {
    "tags": []
   },
   "outputs": [],
   "source": [
    "using LinearAlgebra"
   ]
  },
  {
   "cell_type": "code",
   "execution_count": 3,
   "id": "bc2cf86b-dc39-4a79-b185-c803e8965de1",
   "metadata": {
    "tags": []
   },
   "outputs": [
    {
     "data": {
      "text/plain": [
       "6×8 Matrix{Int64}:\n",
       " 1  -1   0   0   0   0   0  0\n",
       " 0   1  -1   0   0   0   0  0\n",
       " 0   0   1  -1   0   0   0  0\n",
       " 0   0   0   1  -1   0   0  0\n",
       " 0   0   0   0   1  -1   0  0\n",
       " 0   0   0   0   0   1  -1  0"
      ]
     },
     "execution_count": 3,
     "metadata": {},
     "output_type": "execute_result"
    }
   ],
   "source": [
    "diagm(6,8 , 0 => fill(1,6), 1 => fill(-1,6))"
   ]
  },
  {
   "cell_type": "markdown",
   "id": "877649c2-32b1-4f9c-ad85-af2c5348ef14",
   "metadata": {},
   "source": [
    "## Diagonal Matrices"
   ]
  },
  {
   "cell_type": "code",
   "execution_count": 34,
   "id": "96666d64-2eba-466c-b606-761478107fad",
   "metadata": {
    "tags": []
   },
   "outputs": [
    {
     "data": {
      "text/plain": [
       "true"
      ]
     },
     "execution_count": 34,
     "metadata": {},
     "output_type": "execute_result"
    }
   ],
   "source": [
    "#Non square matrices cannot be diagonal\n",
    "D = diagm(5,5, 0 => fill(7,5))\n",
    "E = diagm(5,5, 0 => fill(3,5))\n",
    "E1 = diagm(5,5, 0 => fill(6,5))\n",
    "E*D*E1 == diagm(5,5, 0 => fill(7*3*6,5))\n",
    "\n",
    "#The product of diagonal matrices is the product of each entires placed along the diagonal"
   ]
  },
  {
   "cell_type": "markdown",
   "id": "61b157a2-e39a-4a71-a592-f30a3516c6f3",
   "metadata": {},
   "source": [
    "## Similar Matrices"
   ]
  },
  {
   "cell_type": "markdown",
   "id": "cc419f6e-ae2f-40e0-86f4-f8c107fd42de",
   "metadata": {},
   "source": [
    "We can show that $S^{-1}$x is an eigenvector of B for the same eigenvalue of A, if A ~ B"
   ]
  },
  {
   "cell_type": "markdown",
   "id": "172634de-646e-4815-af93-6c6570fac80f",
   "metadata": {},
   "source": [
    "If $Ax = \\lambda x$ , since $A = SBS^{-1}$, $SBS^{-1}x = \\lambda x$,  $B(S^{-1}x) = \\lambda (S^{-1} x)$, "
   ]
  },
  {
   "cell_type": "markdown",
   "id": "8132fe4c-b3f7-4efc-85c8-99da649d5087",
   "metadata": {},
   "source": [
    "## Trace and $\\Lambda$"
   ]
  },
  {
   "cell_type": "markdown",
   "id": "7a36869b-36f2-4186-a479-f156936a6541",
   "metadata": {},
   "source": [
    "The Trace is the sum of the eigenvalues, and $det(A) = det(\\Lambda)$  and is equal to the product of the eigenvalues "
   ]
  },
  {
   "cell_type": "code",
   "execution_count": 35,
   "id": "42039c85-d57d-49b7-b0b4-7a5805519478",
   "metadata": {
    "tags": []
   },
   "outputs": [
    {
     "data": {
      "text/plain": [
       "2×2 Matrix{Float64}:\n",
       " -1.70379   -0.53687\n",
       " -0.760673  -1.51688"
      ]
     },
     "execution_count": 35,
     "metadata": {},
     "output_type": "execute_result"
    }
   ],
   "source": [
    "A = randn(2,2)"
   ]
  },
  {
   "cell_type": "code",
   "execution_count": 36,
   "id": "9cd89c22-b5f7-4069-903c-af1d2124ce4e",
   "metadata": {
    "tags": []
   },
   "outputs": [
    {
     "data": {
      "text/plain": [
       "true"
      ]
     },
     "execution_count": 36,
     "metadata": {},
     "output_type": "execute_result"
    }
   ],
   "source": [
    "tr(A) == sum(eigvals(A))"
   ]
  },
  {
   "cell_type": "code",
   "execution_count": 37,
   "id": "0be999f4-2b94-48eb-87cd-d5453e2c8046",
   "metadata": {
    "tags": []
   },
   "outputs": [
    {
     "data": {
      "text/plain": [
       "true"
      ]
     },
     "execution_count": 37,
     "metadata": {},
     "output_type": "execute_result"
    }
   ],
   "source": [
    "det(A) == prod(eigvals(A))"
   ]
  },
  {
   "cell_type": "code",
   "execution_count": 64,
   "id": "26110287-6a45-42bc-91b0-be0157b58626",
   "metadata": {
    "tags": []
   },
   "outputs": [
    {
     "data": {
      "text/plain": [
       "5×5 Matrix{Float64}:\n",
       " -0.527686   1.89983    0.409714   2.05961    1.90961\n",
       "  1.97411    0.923691   0.697408   0.556489  -0.676256\n",
       " -1.52866   -0.421214  -1.04175    0.530475   0.881827\n",
       "  1.0188    -0.370525   0.831289  -0.827622  -0.104088\n",
       " -0.389915  -0.858991   1.3294    -0.995075  -0.59653"
      ]
     },
     "execution_count": 64,
     "metadata": {},
     "output_type": "execute_result"
    }
   ],
   "source": [
    "D = randn(5,5)"
   ]
  },
  {
   "cell_type": "code",
   "execution_count": 65,
   "id": "62288344-6ede-475e-8581-2ce188856d16",
   "metadata": {
    "tags": []
   },
   "outputs": [
    {
     "data": {
      "text/plain": [
       "-4.243799256581738"
      ]
     },
     "execution_count": 65,
     "metadata": {},
     "output_type": "execute_result"
    }
   ],
   "source": [
    "det(D)"
   ]
  },
  {
   "cell_type": "code",
   "execution_count": 66,
   "id": "5f99c00b-8b49-4d96-b451-a33fe7965d95",
   "metadata": {
    "tags": []
   },
   "outputs": [
    {
     "data": {
      "text/plain": [
       "-4.243799256581743"
      ]
     },
     "execution_count": 66,
     "metadata": {},
     "output_type": "execute_result"
    }
   ],
   "source": [
    "real(prod(eigvals(D)))"
   ]
  },
  {
   "cell_type": "code",
   "execution_count": 67,
   "id": "a90eaf88-1646-4115-81ca-67e7dd9ebbbf",
   "metadata": {
    "tags": []
   },
   "outputs": [
    {
     "data": {
      "text/plain": [
       "true"
      ]
     },
     "execution_count": 67,
     "metadata": {},
     "output_type": "execute_result"
    }
   ],
   "source": [
    "isapprox(det(D) , real(prod(eigvals(D))))"
   ]
  },
  {
   "cell_type": "markdown",
   "id": "e0b9c6d4-a469-41a0-969a-d0a790d131b6",
   "metadata": {},
   "source": [
    "#### Scaling EROs will change eigenvalues for a matrix"
   ]
  },
  {
   "cell_type": "code",
   "execution_count": 68,
   "id": "9dcf299e-729b-4d58-88b5-8beb2c425cc8",
   "metadata": {
    "tags": []
   },
   "outputs": [
    {
     "data": {
      "text/plain": [
       "3×3 Matrix{Int64}:\n",
       " 1  0  22\n",
       " 0  1  10\n",
       " 0  0   3"
      ]
     },
     "execution_count": 68,
     "metadata": {},
     "output_type": "execute_result"
    }
   ],
   "source": [
    "A = [ 1 0 22; 0 1 10 ;  0 0 3]"
   ]
  },
  {
   "cell_type": "code",
   "execution_count": 69,
   "id": "4647ee5d-7b81-45bc-be04-1897afc86fb3",
   "metadata": {
    "tags": []
   },
   "outputs": [
    {
     "data": {
      "text/plain": [
       "3-element Vector{Float64}:\n",
       " 1.0\n",
       " 1.0\n",
       " 3.0"
      ]
     },
     "execution_count": 69,
     "metadata": {},
     "output_type": "execute_result"
    }
   ],
   "source": [
    "eigvals(A)"
   ]
  },
  {
   "cell_type": "code",
   "execution_count": 76,
   "id": "3ce13ab5-cf44-4c6a-bf04-a0ee50eb3b23",
   "metadata": {
    "tags": []
   },
   "outputs": [
    {
     "data": {
      "text/plain": [
       "3×3 Matrix{Int64}:\n",
       " 1  0  22\n",
       " 0  1   0\n",
       " 0  0   1"
      ]
     },
     "execution_count": 76,
     "metadata": {},
     "output_type": "execute_result"
    }
   ],
   "source": [
    "A1 = [ 1 0 22; 0 1 0 ;  0 0 1]"
   ]
  },
  {
   "cell_type": "code",
   "execution_count": 77,
   "id": "63cd4e83-e917-4455-85d6-68179ea70796",
   "metadata": {
    "tags": []
   },
   "outputs": [
    {
     "data": {
      "text/plain": [
       "3-element Vector{Float64}:\n",
       " 1.0\n",
       " 1.0\n",
       " 1.0"
      ]
     },
     "execution_count": 77,
     "metadata": {},
     "output_type": "execute_result"
    }
   ],
   "source": [
    "eigvals(A1)"
   ]
  },
  {
   "cell_type": "code",
   "execution_count": 82,
   "id": "715db047-898c-4c61-b9a9-0b32506a55a7",
   "metadata": {
    "tags": []
   },
   "outputs": [
    {
     "data": {
      "text/plain": [
       "3-element Vector{Int64}:\n",
       "  4\n",
       " -1\n",
       "  1"
      ]
     },
     "execution_count": 82,
     "metadata": {},
     "output_type": "execute_result"
    }
   ],
   "source": [
    "cross([1,0,-4],[0 ,1 ,1])"
   ]
  },
  {
   "cell_type": "markdown",
   "id": "7d6b8d1b-a1e4-4d5e-8c79-de65cf64d3c3",
   "metadata": {},
   "source": [
    "## PSET 9 "
   ]
  },
  {
   "cell_type": "code",
   "execution_count": 28,
   "id": "a4ccb37d-1246-4724-a799-156887937e3d",
   "metadata": {
    "tags": []
   },
   "outputs": [
    {
     "name": "stdout",
     "output_type": "stream",
     "text": [
      "eigvals(randn(3, 3)) = [-1.7876156208856755, -0.7701685555086032, 1.6151421318165973]\n",
      "eigvals(randn(3, 3)) = ComplexF64[-0.6717471837602705 - 1.3037294804651927im, -0.6717471837602705 + 1.3037294804651927im, 1.390981413677068 + 0.0im]\n",
      "eigvals(randn(3, 3)) = [-2.8769317709304265, -2.257790413798549, 0.04183173076347657]\n",
      "eigvals(randn(3, 3)) = [-0.78917653515409, 0.44992392711312323, 2.2941404768327387]\n",
      "eigvals(randn(3, 3)) = ComplexF64[0.11727982474110105 - 0.7634187537379321im, 0.11727982474110105 + 0.7634187537379321im, 2.344561239044643 + 0.0im]\n",
      "eigvals(randn(3, 3)) = ComplexF64[0.4006362439635969 - 1.2075141432640828im, 0.4006362439635969 + 1.2075141432640828im, 2.7356341820858368 + 0.0im]\n",
      "eigvals(randn(3, 3)) = [-2.0304766790443205, 0.046172283950504704, 1.4424141942097761]\n",
      "eigvals(randn(3, 3)) = ComplexF64[-0.958481668540776 - 0.8230835995240955im, -0.958481668540776 + 0.8230835995240955im, 0.9595860413725006 + 0.0im]\n",
      "eigvals(randn(3, 3)) = ComplexF64[-1.9881922597754378 - 0.3512446589255203im, -1.9881922597754378 + 0.3512446589255203im, 0.9834782598861349 + 0.0im]\n",
      "eigvals(randn(3, 3)) = ComplexF64[-0.19331921334175256 + 0.0im, 1.0505185084337119 - 0.49275026665482363im, 1.0505185084337119 + 0.49275026665482363im]\n"
     ]
    }
   ],
   "source": [
    "for i in 1:10\n",
    "    @show eigvals(randn(3,3))\n",
    "end\n",
    "# We note that a 3x3 matrix must have at least 1 real eigenvalue"
   ]
  },
  {
   "cell_type": "code",
   "execution_count": 29,
   "id": "f0adb306-8e59-4afd-9f3b-46ef4a06102f",
   "metadata": {
    "tags": []
   },
   "outputs": [],
   "source": [
    "# Note that an mxm matrix always has an eigenvalue if m is odd."
   ]
  },
  {
   "cell_type": "markdown",
   "id": "a9e47a66-d723-42f3-b1de-eca9401c64c4",
   "metadata": {},
   "source": [
    "## 2020 Lin Alg Pset"
   ]
  },
  {
   "cell_type": "markdown",
   "id": "d5674818-7d28-4626-8baa-a9aabdc16891",
   "metadata": {},
   "source": [
    "The equation 2x+3y+4z = 202- describes \n",
    "\n",
    "a. \n",
    "1) line \n",
    "2) plane through \n",
    "3) plane not through 0 \n",
    "4) sphere\n",
    "b. A normal to your answer in 2a is __________?\n",
    "c. The equation x²+y²+z²=1 describes a a) line b) plane through 0 c) plane not through 0 d)\n",
    "sphere\n",
    "d. A normal to your answer in c is __________?\n",
    "e. Calculate the gradient of f(x,y,z) = 2x+3y+4z\n",
    "f. Calculate the gradient of f(x,y,z) = x²+y²+z²\n",
    "g. The inequality 2x+3y+4z < 2020 describes a region of 3 dimensional space. Describe\n",
    "that region:__"
   ]
  }
 ],
 "metadata": {
  "kernelspec": {
   "display_name": "Julia 1.9.0",
   "language": "julia",
   "name": "julia-1.9"
  },
  "language_info": {
   "file_extension": ".jl",
   "mimetype": "application/julia",
   "name": "julia",
   "version": "1.9.0"
  }
 },
 "nbformat": 4,
 "nbformat_minor": 5
}
